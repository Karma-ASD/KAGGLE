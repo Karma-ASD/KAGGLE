{
 "cells": [
  {
   "cell_type": "code",
   "execution_count": 1,
   "id": "b4450361",
   "metadata": {
    "_cell_guid": "b1076dfc-b9ad-4769-8c92-a6c4dae69d19",
    "_uuid": "8f2839f25d086af736a60e9eeb907d3b93b6e0e5",
    "execution": {
     "iopub.execute_input": "2023-07-28T03:02:59.814468Z",
     "iopub.status.busy": "2023-07-28T03:02:59.813890Z",
     "iopub.status.idle": "2023-07-28T03:02:59.911267Z",
     "shell.execute_reply": "2023-07-28T03:02:59.910274Z"
    },
    "papermill": {
     "duration": 0.122137,
     "end_time": "2023-07-28T03:02:59.913844",
     "exception": false,
     "start_time": "2023-07-28T03:02:59.791707",
     "status": "completed"
    },
    "tags": []
   },
   "outputs": [],
   "source": [
    "# This Python 3 environment comes with many helpful analytics libraries installed\n",
    "# It is defined by the kaggle/python Docker image: https://github.com/kaggle/docker-python\n",
    "# For example, here's several helpful packages to load\n",
    "\n",
    "import numpy as np # linear algebra\n",
    "import pandas as pd # data processing, CSV file I/O (e.g. pd.read_csv)\n",
    "\n",
    "# Input data files are available in the read-only \"../input/\" directory\n",
    "# For example, running this (by clicking run or pressing Shift+Enter) will list all files under the input directory\n",
    "\n",
    "import os\n",
    "for dirname, _, filenames in os.walk('/kaggle/input'):\n",
    "    for filename in filenames:\n",
    "        #print(os.path.join(dirname, filename))\n",
    "        pass\n",
    "\n",
    "# You can write up to 20GB to the current directory (/kaggle/working/) that gets preserved as output when you create a version using \"Save & Run All\" \n",
    "# You can also write temporary files to /kaggle/temp/, but they won't be saved outside of the current session"
   ]
  },
  {
   "cell_type": "markdown",
   "id": "ef0b979b",
   "metadata": {
    "papermill": {
     "duration": 0.018339,
     "end_time": "2023-07-28T03:02:59.951300",
     "exception": false,
     "start_time": "2023-07-28T03:02:59.932961",
     "status": "completed"
    },
    "tags": []
   },
   "source": [
    "# procedure:\n",
    "* make dats sets\n",
    "* make model\n",
    "* evaluate model\n",
    "* create submission"
   ]
  },
  {
   "cell_type": "markdown",
   "id": "57bf8d8b",
   "metadata": {
    "papermill": {
     "duration": 0.01822,
     "end_time": "2023-07-28T03:02:59.989486",
     "exception": false,
     "start_time": "2023-07-28T03:02:59.971266",
     "status": "completed"
    },
    "tags": []
   },
   "source": [
    "# IMPORTS"
   ]
  },
  {
   "cell_type": "code",
   "execution_count": 2,
   "id": "821e4f05",
   "metadata": {
    "execution": {
     "iopub.execute_input": "2023-07-28T03:03:00.028640Z",
     "iopub.status.busy": "2023-07-28T03:03:00.027612Z",
     "iopub.status.idle": "2023-07-28T03:03:03.310629Z",
     "shell.execute_reply": "2023-07-28T03:03:03.309412Z"
    },
    "papermill": {
     "duration": 3.305666,
     "end_time": "2023-07-28T03:03:03.313534",
     "exception": false,
     "start_time": "2023-07-28T03:03:00.007868",
     "status": "completed"
    },
    "tags": []
   },
   "outputs": [],
   "source": [
    "import numpy as np\n",
    "import pandas as pd\n",
    "import matplotlib.pyplot as plt\n",
    "import PIL\n",
    "from fastai.vision.all import *\n",
    "import torch\n",
    "import os\n",
    "import ast\n",
    "import cv2\n",
    "import tqdm\n",
    "from sklearn.model_selection import train_test_split as tts \n",
    "from torchvision import transforms, utils\n",
    "import gc\n"
   ]
  },
  {
   "cell_type": "code",
   "execution_count": 3,
   "id": "5dc8e898",
   "metadata": {
    "execution": {
     "iopub.execute_input": "2023-07-28T03:03:03.352897Z",
     "iopub.status.busy": "2023-07-28T03:03:03.352293Z",
     "iopub.status.idle": "2023-07-28T03:03:03.478203Z",
     "shell.execute_reply": "2023-07-28T03:03:03.477082Z"
    },
    "papermill": {
     "duration": 0.149524,
     "end_time": "2023-07-28T03:03:03.482014",
     "exception": false,
     "start_time": "2023-07-28T03:03:03.332490",
     "status": "completed"
    },
    "tags": []
   },
   "outputs": [
    {
     "data": {
      "text/plain": [
       "0"
      ]
     },
     "execution_count": 3,
     "metadata": {},
     "output_type": "execute_result"
    }
   ],
   "source": [
    "gc.collect()"
   ]
  },
  {
   "cell_type": "markdown",
   "id": "21ec374b",
   "metadata": {
    "papermill": {
     "duration": 0.018546,
     "end_time": "2023-07-28T03:03:03.519640",
     "exception": false,
     "start_time": "2023-07-28T03:03:03.501094",
     "status": "completed"
    },
    "tags": []
   },
   "source": [
    "# visualizing some data"
   ]
  },
  {
   "cell_type": "code",
   "execution_count": 4,
   "id": "6d641ce0",
   "metadata": {
    "execution": {
     "iopub.execute_input": "2023-07-28T03:03:03.559575Z",
     "iopub.status.busy": "2023-07-28T03:03:03.558571Z",
     "iopub.status.idle": "2023-07-28T03:03:03.567508Z",
     "shell.execute_reply": "2023-07-28T03:03:03.566596Z"
    },
    "papermill": {
     "duration": 0.03123,
     "end_time": "2023-07-28T03:03:03.569726",
     "exception": false,
     "start_time": "2023-07-28T03:03:03.538496",
     "status": "completed"
    },
    "tags": []
   },
   "outputs": [],
   "source": [
    "class CSV:\n",
    "    base=\"../input/quickdraw-doodle-recognition/train_simplified\"\n",
    "    total=len(os.listdir(base))\n",
    "    rows=510\n",
    "    def __init__(self,index):\n",
    "        base=self.base\n",
    "        self.loc = base+\"/\"+os.listdir(base)[index]\n",
    "        self.name = os.listdir(base)[index][:-4]\n",
    "        self.csv = pd.read_csv(self.loc).iloc[:self.rows]\n",
    "        \n",
    "    def __len__(self):\n",
    "        return self.csv.shape[0]\n",
    "    \n",
    "    def loc(self):\n",
    "        return self.loc\n",
    "    \n",
    "    def name(self):\n",
    "        return self.name\n",
    "    \n",
    "    def csv(self):\n",
    "        return self.csv"
   ]
  },
  {
   "cell_type": "code",
   "execution_count": 5,
   "id": "91a7811d",
   "metadata": {
    "execution": {
     "iopub.execute_input": "2023-07-28T03:03:03.612111Z",
     "iopub.status.busy": "2023-07-28T03:03:03.611186Z",
     "iopub.status.idle": "2023-07-28T03:03:04.289944Z",
     "shell.execute_reply": "2023-07-28T03:03:04.288659Z"
    },
    "papermill": {
     "duration": 0.704208,
     "end_time": "2023-07-28T03:03:04.292640",
     "exception": false,
     "start_time": "2023-07-28T03:03:03.588432",
     "status": "completed"
    },
    "tags": []
   },
   "outputs": [],
   "source": [
    "index=11\n",
    "\n",
    "a=CSV(index)\n",
    "\n",
    "len(a),\n",
    "#a.total\n",
    "\n",
    "a.name\n",
    "\n",
    "#a.loc\n",
    "#a.name\n",
    "#a.csv\n",
    "\n",
    "vis=a.csv"
   ]
  },
  {
   "cell_type": "code",
   "execution_count": 6,
   "id": "56ef5a62",
   "metadata": {
    "execution": {
     "iopub.execute_input": "2023-07-28T03:03:04.333425Z",
     "iopub.status.busy": "2023-07-28T03:03:04.332094Z",
     "iopub.status.idle": "2023-07-28T03:03:04.461934Z",
     "shell.execute_reply": "2023-07-28T03:03:04.460819Z"
    },
    "papermill": {
     "duration": 0.152636,
     "end_time": "2023-07-28T03:03:04.464786",
     "exception": false,
     "start_time": "2023-07-28T03:03:04.312150",
     "status": "completed"
    },
    "tags": []
   },
   "outputs": [
    {
     "data": {
      "text/plain": [
       "42"
      ]
     },
     "execution_count": 6,
     "metadata": {},
     "output_type": "execute_result"
    }
   ],
   "source": [
    "X,y=vis[\"drawing\"].values,vis[\"word\"].values\n",
    "#X=X[0].split(']]')\n",
    "del vis,a,index\n",
    "gc.collect()"
   ]
  },
  {
   "cell_type": "code",
   "execution_count": 7,
   "id": "816d897a",
   "metadata": {
    "execution": {
     "iopub.execute_input": "2023-07-28T03:03:04.504304Z",
     "iopub.status.busy": "2023-07-28T03:03:04.503948Z",
     "iopub.status.idle": "2023-07-28T03:03:05.459307Z",
     "shell.execute_reply": "2023-07-28T03:03:05.458331Z"
    },
    "papermill": {
     "duration": 0.977571,
     "end_time": "2023-07-28T03:03:05.461529",
     "exception": false,
     "start_time": "2023-07-28T03:03:04.483958",
     "status": "completed"
    },
    "tags": []
   },
   "outputs": [
    {
     "name": "stdout",
     "output_type": "stream",
     "text": [
      "\n",
      "\n",
      "## IMAGE square ##\n",
      "\n",
      "\n"
     ]
    },
    {
     "data": {
      "image/png": "[encoded data removed]",
      "text/plain": [
       "<Figure size 432x288 with 1 Axes>"
      ]
     },
     "metadata": {
      "needs_background": "light"
     },
     "output_type": "display_data"
    },
    {
     "name": "stdout",
     "output_type": "stream",
     "text": [
      "\n",
      "\n",
      "## IMAGE square ##\n",
      "\n",
      "\n"
     ]
    },
    {
     "data": {
      "image/png": "[encoded data removed]",
      "text/plain": [
       "<Figure size 432x288 with 1 Axes>"
      ]
     },
     "metadata": {
      "needs_background": "light"
     },
     "output_type": "display_data"
    },
    {
     "name": "stdout",
     "output_type": "stream",
     "text": [
      "\n",
      "\n",
      "## IMAGE square ##\n",
      "\n",
      "\n"
     ]
    },
    {
     "data": {
      "image/png": "[encoded data removed]",
      "text/plain": [
       "<Figure size 432x288 with 1 Axes>"
      ]
     },
     "metadata": {
      "needs_background": "light"
     },
     "output_type": "display_data"
    },
    {
     "name": "stdout",
     "output_type": "stream",
     "text": [
      "\n",
      "\n",
      "## IMAGE square ##\n",
      "\n",
      "\n"
     ]
    },
    {
     "data": {
      "image/png": "[encoded data removed]",
      "text/plain": [
       "<Figure size 432x288 with 1 Axes>"
      ]
     },
     "metadata": {
      "needs_background": "light"
     },
     "output_type": "display_data"
    },
    {
     "name": "stdout",
     "output_type": "stream",
     "text": [
      "\n",
      "\n",
      "## IMAGE square ##\n",
      "\n",
      "\n"
     ]
    },
    {
     "data": {
      "image/png": "[encoded data removed]",
      "text/plain": [
       "<Figure size 432x288 with 1 Axes>"
      ]
     },
     "metadata": {
      "needs_background": "light"
     },
     "output_type": "display_data"
    }
   ],
   "source": [
    "for i in range(5):\n",
    "    print(\"\\n\\n## IMAGE {} ##\\n\\n\".format(y[i]))\n",
    "    new = ast.literal_eval(X[i])\n",
    "    img= np.zeros((256,256), np.uint8)\n",
    "    for t, stroke in enumerate(new):\n",
    "        for i in range(len(stroke[0]) - 1):\n",
    "            color = 255 - min(t,10) * 13 if True else 255\n",
    "            _ = cv2.line(img, (stroke[0][i], stroke[1][i]), (stroke[0][i+1], stroke[1][i+1]), color, 6)\n",
    "    plt.imshow(img)\n",
    "    plt.show()"
   ]
  },
  {
   "cell_type": "markdown",
   "id": "b3d96214",
   "metadata": {
    "papermill": {
     "duration": 0.02109,
     "end_time": "2023-07-28T03:03:05.503713",
     "exception": false,
     "start_time": "2023-07-28T03:03:05.482623",
     "status": "completed"
    },
    "tags": []
   },
   "source": [
    "Images are overall similar to eachother yet contrastly different in meaning,\n",
    "for example traffic lights are rectangular in shape and are related to rectangles but are labelled as traffic lights"
   ]
  },
  {
   "cell_type": "markdown",
   "id": "fd056438",
   "metadata": {
    "papermill": {
     "duration": 0.020361,
     "end_time": "2023-07-28T03:03:05.544578",
     "exception": false,
     "start_time": "2023-07-28T03:03:05.524217",
     "status": "completed"
    },
    "tags": []
   },
   "source": [
    "# Utility function"
   ]
  },
  {
   "cell_type": "code",
   "execution_count": 8,
   "id": "e4ea6de9",
   "metadata": {
    "execution": {
     "iopub.execute_input": "2023-07-28T03:03:05.587016Z",
     "iopub.status.busy": "2023-07-28T03:03:05.586656Z",
     "iopub.status.idle": "2023-07-28T03:03:05.595757Z",
     "shell.execute_reply": "2023-07-28T03:03:05.594670Z"
    },
    "papermill": {
     "duration": 0.033381,
     "end_time": "2023-07-28T03:03:05.598348",
     "exception": false,
     "start_time": "2023-07-28T03:03:05.564967",
     "status": "completed"
    },
    "tags": []
   },
   "outputs": [],
   "source": [
    "def get_ims(X):\n",
    "    ims=[]\n",
    "    \n",
    "    for i in range(len(X)):\n",
    "        new = ast.literal_eval(X[i])\n",
    "        img= np.zeros((256,256), np.uint8)\n",
    "        \n",
    "        for t, stroke in enumerate(new):\n",
    "            for i in range(len(stroke[0]) - 1):\n",
    "                color = 255 - min(t,10) * 13 if False else 255\n",
    "                _ = cv2.line(img, (stroke[0][i], stroke[1][i]), (stroke[0][i+1], stroke[1][i+1]), color, 6)\n",
    "        ims.append(img)\n",
    "        del _,color,i,t,stroke,img\n",
    "        gc.collect()\n",
    "    return ims#return imges "
   ]
  },
  {
   "cell_type": "markdown",
   "id": "bad630ee",
   "metadata": {
    "papermill": {
     "duration": 0.020195,
     "end_time": "2023-07-28T03:03:05.642902",
     "exception": false,
     "start_time": "2023-07-28T03:03:05.622707",
     "status": "completed"
    },
    "tags": []
   },
   "source": [
    "# training data{\"image\":list,\"label\":label}"
   ]
  },
  {
   "cell_type": "code",
   "execution_count": 9,
   "id": "767b05f8",
   "metadata": {
    "execution": {
     "iopub.execute_input": "2023-07-28T03:03:05.687067Z",
     "iopub.status.busy": "2023-07-28T03:03:05.686075Z",
     "iopub.status.idle": "2023-07-28T03:03:05.693442Z",
     "shell.execute_reply": "2023-07-28T03:03:05.692403Z"
    },
    "papermill": {
     "duration": 0.031649,
     "end_time": "2023-07-28T03:03:05.695656",
     "exception": false,
     "start_time": "2023-07-28T03:03:05.664007",
     "status": "completed"
    },
    "tags": []
   },
   "outputs": [],
   "source": [
    "def data(df,index):\n",
    "    a=CSV(index)\n",
    "    lenn=len(a)\n",
    "    label=a.name\n",
    "    a=a.csv[\"drawing\"]\n",
    "    a=get_ims(a)\n",
    "    \n",
    "    a=pd.DataFrame({\"image\":a,\"label\":[label for i in range(lenn)]})\n",
    "    df = pd.concat([df , a], axis=0,ignore_index=True)\n",
    "    return df"
   ]
  },
  {
   "cell_type": "code",
   "execution_count": 10,
   "id": "a68c9a73",
   "metadata": {
    "execution": {
     "iopub.execute_input": "2023-07-28T03:03:05.739605Z",
     "iopub.status.busy": "2023-07-28T03:03:05.738530Z",
     "iopub.status.idle": "2023-07-28T08:07:13.432450Z",
     "shell.execute_reply": "2023-07-28T08:07:13.431465Z"
    },
    "papermill": {
     "duration": 18247.7661,
     "end_time": "2023-07-28T08:07:13.482414",
     "exception": false,
     "start_time": "2023-07-28T03:03:05.716314",
     "status": "completed"
    },
    "tags": []
   },
   "outputs": [
    {
     "name": "stderr",
     "output_type": "stream",
     "text": [
      "100%|██████████| 340/340 [5:04:07<00:00, 53.67s/it]\n"
     ]
    }
   ],
   "source": [
    "df=pd.DataFrame({\"image\":[],\"label\":[]})\n",
    "for i,j in enumerate(tqdm.tqdm(range(340))):\n",
    "    df=data(df,j)\n"
   ]
  },
  {
   "cell_type": "code",
   "execution_count": 11,
   "id": "d4cdcab5",
   "metadata": {
    "execution": {
     "iopub.execute_input": "2023-07-28T08:07:13.575188Z",
     "iopub.status.busy": "2023-07-28T08:07:13.574798Z",
     "iopub.status.idle": "2023-07-28T08:07:13.579611Z",
     "shell.execute_reply": "2023-07-28T08:07:13.578603Z"
    },
    "papermill": {
     "duration": 0.054102,
     "end_time": "2023-07-28T08:07:13.581965",
     "exception": false,
     "start_time": "2023-07-28T08:07:13.527863",
     "status": "completed"
    },
    "tags": []
   },
   "outputs": [],
   "source": [
    "#df.head()"
   ]
  },
  {
   "cell_type": "code",
   "execution_count": 12,
   "id": "e1d75841",
   "metadata": {
    "execution": {
     "iopub.execute_input": "2023-07-28T08:07:13.675759Z",
     "iopub.status.busy": "2023-07-28T08:07:13.674685Z",
     "iopub.status.idle": "2023-07-28T08:07:13.708479Z",
     "shell.execute_reply": "2023-07-28T08:07:13.707419Z"
    },
    "papermill": {
     "duration": 0.083491,
     "end_time": "2023-07-28T08:07:13.711041",
     "exception": false,
     "start_time": "2023-07-28T08:07:13.627550",
     "status": "completed"
    },
    "tags": []
   },
   "outputs": [],
   "source": [
    "X_train, X_test, y_train, y_test = tts(df[\"image\"], df[\"label\"], test_size=0.1, random_state=42)"
   ]
  },
  {
   "cell_type": "code",
   "execution_count": 13,
   "id": "fc95eb33",
   "metadata": {
    "execution": {
     "iopub.execute_input": "2023-07-28T08:07:13.805024Z",
     "iopub.status.busy": "2023-07-28T08:07:13.804649Z",
     "iopub.status.idle": "2023-07-28T08:07:13.937125Z",
     "shell.execute_reply": "2023-07-28T08:07:13.936134Z"
    },
    "papermill": {
     "duration": 0.182852,
     "end_time": "2023-07-28T08:07:13.940242",
     "exception": false,
     "start_time": "2023-07-28T08:07:13.757390",
     "status": "completed"
    },
    "tags": []
   },
   "outputs": [
    {
     "data": {
      "text/plain": [
       "63"
      ]
     },
     "execution_count": 13,
     "metadata": {},
     "output_type": "execute_result"
    }
   ],
   "source": [
    "del df,i,j\n",
    "gc.collect()"
   ]
  },
  {
   "cell_type": "code",
   "execution_count": 14,
   "id": "2cd2f76f",
   "metadata": {
    "execution": {
     "iopub.execute_input": "2023-07-28T08:07:14.033839Z",
     "iopub.status.busy": "2023-07-28T08:07:14.032793Z",
     "iopub.status.idle": "2023-07-28T08:07:14.040675Z",
     "shell.execute_reply": "2023-07-28T08:07:14.039350Z"
    },
    "papermill": {
     "duration": 0.056852,
     "end_time": "2023-07-28T08:07:14.042922",
     "exception": false,
     "start_time": "2023-07-28T08:07:13.986070",
     "status": "completed"
    },
    "tags": []
   },
   "outputs": [],
   "source": [
    "dataset_sizes = {\"train\":len(X_train),\"valid\":len(y_train)}"
   ]
  },
  {
   "cell_type": "code",
   "execution_count": 15,
   "id": "3c67d9c3",
   "metadata": {
    "execution": {
     "iopub.execute_input": "2023-07-28T08:07:14.136061Z",
     "iopub.status.busy": "2023-07-28T08:07:14.135014Z",
     "iopub.status.idle": "2023-07-28T08:07:14.147525Z",
     "shell.execute_reply": "2023-07-28T08:07:14.146571Z"
    },
    "papermill": {
     "duration": 0.06172,
     "end_time": "2023-07-28T08:07:14.149920",
     "exception": false,
     "start_time": "2023-07-28T08:07:14.088200",
     "status": "completed"
    },
    "tags": []
   },
   "outputs": [],
   "source": [
    "dftrain=pd.DataFrame({\"image\":X_train,\"label\":y_train})\n",
    "dftest=pd.DataFrame({\"image\":X_test,\"label\":y_test})"
   ]
  },
  {
   "cell_type": "code",
   "execution_count": 16,
   "id": "38745df1",
   "metadata": {
    "execution": {
     "iopub.execute_input": "2023-07-28T08:07:14.243671Z",
     "iopub.status.busy": "2023-07-28T08:07:14.242620Z",
     "iopub.status.idle": "2023-07-28T08:07:14.247861Z",
     "shell.execute_reply": "2023-07-28T08:07:14.246895Z"
    },
    "papermill": {
     "duration": 0.05441,
     "end_time": "2023-07-28T08:07:14.250049",
     "exception": false,
     "start_time": "2023-07-28T08:07:14.195639",
     "status": "completed"
    },
    "tags": []
   },
   "outputs": [],
   "source": [
    "#dftrain.head()"
   ]
  },
  {
   "cell_type": "code",
   "execution_count": 17,
   "id": "9e7d9b7b",
   "metadata": {
    "execution": {
     "iopub.execute_input": "2023-07-28T08:07:14.343603Z",
     "iopub.status.busy": "2023-07-28T08:07:14.343208Z",
     "iopub.status.idle": "2023-07-28T08:07:14.347646Z",
     "shell.execute_reply": "2023-07-28T08:07:14.346687Z"
    },
    "papermill": {
     "duration": 0.053482,
     "end_time": "2023-07-28T08:07:14.349776",
     "exception": false,
     "start_time": "2023-07-28T08:07:14.296294",
     "status": "completed"
    },
    "tags": []
   },
   "outputs": [],
   "source": [
    "#dftest.head()"
   ]
  },
  {
   "cell_type": "code",
   "execution_count": 18,
   "id": "7a172d18",
   "metadata": {
    "execution": {
     "iopub.execute_input": "2023-07-28T08:07:14.443050Z",
     "iopub.status.busy": "2023-07-28T08:07:14.442063Z",
     "iopub.status.idle": "2023-07-28T08:07:14.575620Z",
     "shell.execute_reply": "2023-07-28T08:07:14.574632Z"
    },
    "papermill": {
     "duration": 0.182532,
     "end_time": "2023-07-28T08:07:14.577871",
     "exception": false,
     "start_time": "2023-07-28T08:07:14.395339",
     "status": "completed"
    },
    "tags": []
   },
   "outputs": [
    {
     "data": {
      "text/plain": [
       "105"
      ]
     },
     "execution_count": 18,
     "metadata": {},
     "output_type": "execute_result"
    }
   ],
   "source": [
    "del X_train, X_test, y_train, y_test \n",
    "gc.collect()"
   ]
  },
  {
   "cell_type": "code",
   "execution_count": 19,
   "id": "81bcf861",
   "metadata": {
    "execution": {
     "iopub.execute_input": "2023-07-28T08:07:14.672558Z",
     "iopub.status.busy": "2023-07-28T08:07:14.670695Z",
     "iopub.status.idle": "2023-07-28T08:07:14.678816Z",
     "shell.execute_reply": "2023-07-28T08:07:14.677816Z"
    },
    "papermill": {
     "duration": 0.057226,
     "end_time": "2023-07-28T08:07:14.681140",
     "exception": false,
     "start_time": "2023-07-28T08:07:14.623914",
     "status": "completed"
    },
    "tags": []
   },
   "outputs": [
    {
     "data": {
      "text/plain": [
       "(256, 256)"
      ]
     },
     "execution_count": 19,
     "metadata": {},
     "output_type": "execute_result"
    }
   ],
   "source": [
    "dftrain.image.iloc[0].shape"
   ]
  },
  {
   "cell_type": "code",
   "execution_count": 20,
   "id": "8e7af432",
   "metadata": {
    "execution": {
     "iopub.execute_input": "2023-07-28T08:07:14.775688Z",
     "iopub.status.busy": "2023-07-28T08:07:14.774623Z",
     "iopub.status.idle": "2023-07-28T08:07:14.971195Z",
     "shell.execute_reply": "2023-07-28T08:07:14.970203Z"
    },
    "papermill": {
     "duration": 0.246108,
     "end_time": "2023-07-28T08:07:14.973663",
     "exception": false,
     "start_time": "2023-07-28T08:07:14.727555",
     "status": "completed"
    },
    "tags": []
   },
   "outputs": [
    {
     "data": {
      "text/plain": [
       "<matplotlib.image.AxesImage at 0x7b3934b39910>"
      ]
     },
     "execution_count": 20,
     "metadata": {},
     "output_type": "execute_result"
    },
    {
     "data": {
      "image/png": "[encoded data removed]",
      "text/plain": [
       "<Figure size 432x288 with 1 Axes>"
      ]
     },
     "metadata": {
      "needs_background": "light"
     },
     "output_type": "display_data"
    }
   ],
   "source": [
    "plt.imshow(dftrain.image.iloc[0])"
   ]
  },
  {
   "cell_type": "code",
   "execution_count": 21,
   "id": "f9f9895f",
   "metadata": {
    "execution": {
     "iopub.execute_input": "2023-07-28T08:07:15.071688Z",
     "iopub.status.busy": "2023-07-28T08:07:15.071316Z",
     "iopub.status.idle": "2023-07-28T08:07:15.214027Z",
     "shell.execute_reply": "2023-07-28T08:07:15.213039Z"
    },
    "papermill": {
     "duration": 0.195681,
     "end_time": "2023-07-28T08:07:15.216222",
     "exception": false,
     "start_time": "2023-07-28T08:07:15.020541",
     "status": "completed"
    },
    "tags": []
   },
   "outputs": [
    {
     "data": {
      "text/plain": [
       "21"
      ]
     },
     "execution_count": 21,
     "metadata": {},
     "output_type": "execute_result"
    }
   ],
   "source": [
    "unique=dftrain.label.unique()\n",
    "unique1=unique\n",
    "unique=enumerate(unique)\n",
    "legend={}\n",
    "for i, j in unique:\n",
    "    legend[j]=i\n",
    "del unique\n",
    "gc.collect()"
   ]
  },
  {
   "cell_type": "code",
   "execution_count": 22,
   "id": "85ce0306",
   "metadata": {
    "execution": {
     "iopub.execute_input": "2023-07-28T08:07:15.313052Z",
     "iopub.status.busy": "2023-07-28T08:07:15.312680Z",
     "iopub.status.idle": "2023-07-28T08:07:15.320116Z",
     "shell.execute_reply": "2023-07-28T08:07:15.319081Z"
    },
    "papermill": {
     "duration": 0.056972,
     "end_time": "2023-07-28T08:07:15.322352",
     "exception": false,
     "start_time": "2023-07-28T08:07:15.265380",
     "status": "completed"
    },
    "tags": []
   },
   "outputs": [],
   "source": [
    "class trainingdf(torch.utils.data.Dataset):\n",
    "    def __init__(self,df):\n",
    "        self.DF=df\n",
    "        self.class2index=legend\n",
    "    def __len__(self):\n",
    "        return self.DF.shape[0]\n",
    "    def __getitem__(self,index):\n",
    "        image=self.DF.image.iloc[index]\n",
    "        image=np.array([image])\n",
    "        label=self.DF.label.iloc[index]\n",
    "        label=self.class2index[label]\n",
    "        return image, label"
   ]
  },
  {
   "cell_type": "code",
   "execution_count": 23,
   "id": "958c569f",
   "metadata": {
    "execution": {
     "iopub.execute_input": "2023-07-28T08:07:15.487074Z",
     "iopub.status.busy": "2023-07-28T08:07:15.486701Z",
     "iopub.status.idle": "2023-07-28T08:07:15.491565Z",
     "shell.execute_reply": "2023-07-28T08:07:15.490482Z"
    },
    "papermill": {
     "duration": 0.125397,
     "end_time": "2023-07-28T08:07:15.493683",
     "exception": false,
     "start_time": "2023-07-28T08:07:15.368286",
     "status": "completed"
    },
    "tags": []
   },
   "outputs": [],
   "source": [
    "dftrain=trainingdf(dftrain)\n",
    "dftest=trainingdf(dftest)"
   ]
  },
  {
   "cell_type": "code",
   "execution_count": 24,
   "id": "685fd5d7",
   "metadata": {
    "execution": {
     "iopub.execute_input": "2023-07-28T08:07:15.588099Z",
     "iopub.status.busy": "2023-07-28T08:07:15.587097Z",
     "iopub.status.idle": "2023-07-28T08:07:15.713377Z",
     "shell.execute_reply": "2023-07-28T08:07:15.712232Z"
    },
    "papermill": {
     "duration": 0.176313,
     "end_time": "2023-07-28T08:07:15.716335",
     "exception": false,
     "start_time": "2023-07-28T08:07:15.540022",
     "status": "completed"
    },
    "tags": []
   },
   "outputs": [
    {
     "data": {
      "text/plain": [
       "63"
      ]
     },
     "execution_count": 24,
     "metadata": {},
     "output_type": "execute_result"
    }
   ],
   "source": [
    "gc.collect()"
   ]
  },
  {
   "cell_type": "markdown",
   "id": "5b1850ab",
   "metadata": {
    "papermill": {
     "duration": 0.046716,
     "end_time": "2023-07-28T08:07:15.809764",
     "exception": false,
     "start_time": "2023-07-28T08:07:15.763048",
     "status": "completed"
    },
    "tags": []
   },
   "source": [
    "# training model"
   ]
  },
  {
   "cell_type": "code",
   "execution_count": 25,
   "id": "97c92d65",
   "metadata": {
    "execution": {
     "iopub.execute_input": "2023-07-28T08:07:15.904793Z",
     "iopub.status.busy": "2023-07-28T08:07:15.903726Z",
     "iopub.status.idle": "2023-07-28T08:07:15.911194Z",
     "shell.execute_reply": "2023-07-28T08:07:15.910278Z"
    },
    "papermill": {
     "duration": 0.057212,
     "end_time": "2023-07-28T08:07:15.913403",
     "exception": false,
     "start_time": "2023-07-28T08:07:15.856191",
     "status": "completed"
    },
    "tags": []
   },
   "outputs": [],
   "source": [
    "\n",
    "from __future__ import print_function, division\n",
    "import torch\n",
    "import torch.nn as nn\n",
    "import torch.optim as optim\n",
    "from torch.optim import lr_scheduler\n",
    "import torch.backends.cudnn as cudnn\n",
    "import torchvision\n",
    "from torchvision import datasets, models, transforms\n",
    "import matplotlib.pyplot as plt\n",
    "import time\n",
    "from torch.utils.data import Dataset, DataLoader, ConcatDataset\n",
    "import copy\n"
   ]
  },
  {
   "cell_type": "code",
   "execution_count": 26,
   "id": "3600a50d",
   "metadata": {
    "execution": {
     "iopub.execute_input": "2023-07-28T08:07:16.008766Z",
     "iopub.status.busy": "2023-07-28T08:07:16.007678Z",
     "iopub.status.idle": "2023-07-28T08:07:16.015760Z",
     "shell.execute_reply": "2023-07-28T08:07:16.014855Z"
    },
    "papermill": {
     "duration": 0.057967,
     "end_time": "2023-07-28T08:07:16.017945",
     "exception": false,
     "start_time": "2023-07-28T08:07:15.959978",
     "status": "completed"
    },
    "tags": []
   },
   "outputs": [],
   "source": [
    "dls_tr=DataLoader(dftrain,batch_size=128*2,shuffle=True,num_workers=0)"
   ]
  },
  {
   "cell_type": "code",
   "execution_count": 27,
   "id": "d5dacd7d",
   "metadata": {
    "execution": {
     "iopub.execute_input": "2023-07-28T08:07:16.117133Z",
     "iopub.status.busy": "2023-07-28T08:07:16.116118Z",
     "iopub.status.idle": "2023-07-28T08:07:16.122107Z",
     "shell.execute_reply": "2023-07-28T08:07:16.121179Z"
    },
    "papermill": {
     "duration": 0.056284,
     "end_time": "2023-07-28T08:07:16.124367",
     "exception": false,
     "start_time": "2023-07-28T08:07:16.068083",
     "status": "completed"
    },
    "tags": []
   },
   "outputs": [],
   "source": [
    "dls_te=DataLoader(dftest,batch_size=128*2,shuffle=True,num_workers=0)"
   ]
  },
  {
   "cell_type": "code",
   "execution_count": 28,
   "id": "34b92d92",
   "metadata": {
    "execution": {
     "iopub.execute_input": "2023-07-28T08:07:16.218786Z",
     "iopub.status.busy": "2023-07-28T08:07:16.218416Z",
     "iopub.status.idle": "2023-07-28T08:07:16.345478Z",
     "shell.execute_reply": "2023-07-28T08:07:16.344516Z"
    },
    "papermill": {
     "duration": 0.176761,
     "end_time": "2023-07-28T08:07:16.347621",
     "exception": false,
     "start_time": "2023-07-28T08:07:16.170860",
     "status": "completed"
    },
    "tags": []
   },
   "outputs": [
    {
     "data": {
      "text/plain": [
       "84"
      ]
     },
     "execution_count": 28,
     "metadata": {},
     "output_type": "execute_result"
    }
   ],
   "source": [
    "del dftest,dftrain\n",
    "gc.collect()"
   ]
  },
  {
   "cell_type": "code",
   "execution_count": 29,
   "id": "ceb586fd",
   "metadata": {
    "execution": {
     "iopub.execute_input": "2023-07-28T08:07:16.442658Z",
     "iopub.status.busy": "2023-07-28T08:07:16.442291Z",
     "iopub.status.idle": "2023-07-28T08:07:16.573137Z",
     "shell.execute_reply": "2023-07-28T08:07:16.572055Z"
    },
    "papermill": {
     "duration": 0.180888,
     "end_time": "2023-07-28T08:07:16.575447",
     "exception": false,
     "start_time": "2023-07-28T08:07:16.394559",
     "status": "completed"
    },
    "tags": []
   },
   "outputs": [
    {
     "data": {
      "text/plain": [
       "21"
      ]
     },
     "execution_count": 29,
     "metadata": {},
     "output_type": "execute_result"
    }
   ],
   "source": [
    "gc.collect()"
   ]
  },
  {
   "cell_type": "code",
   "execution_count": 30,
   "id": "cce85739",
   "metadata": {
    "execution": {
     "iopub.execute_input": "2023-07-28T08:07:16.670625Z",
     "iopub.status.busy": "2023-07-28T08:07:16.669936Z",
     "iopub.status.idle": "2023-07-28T08:07:16.676844Z",
     "shell.execute_reply": "2023-07-28T08:07:16.675843Z"
    },
    "papermill": {
     "duration": 0.05643,
     "end_time": "2023-07-28T08:07:16.678963",
     "exception": false,
     "start_time": "2023-07-28T08:07:16.622533",
     "status": "completed"
    },
    "tags": []
   },
   "outputs": [
    {
     "data": {
      "text/plain": [
       "256"
      ]
     },
     "execution_count": 30,
     "metadata": {},
     "output_type": "execute_result"
    }
   ],
   "source": [
    "dls_te.batch_size"
   ]
  },
  {
   "cell_type": "code",
   "execution_count": 31,
   "id": "32c17f7b",
   "metadata": {
    "execution": {
     "iopub.execute_input": "2023-07-28T08:07:16.774380Z",
     "iopub.status.busy": "2023-07-28T08:07:16.773347Z",
     "iopub.status.idle": "2023-07-28T08:07:16.845199Z",
     "shell.execute_reply": "2023-07-28T08:07:16.844182Z"
    },
    "papermill": {
     "duration": 0.122298,
     "end_time": "2023-07-28T08:07:16.847984",
     "exception": false,
     "start_time": "2023-07-28T08:07:16.725686",
     "status": "completed"
    },
    "tags": []
   },
   "outputs": [],
   "source": [
    "for i,j in dls_tr:\n",
    "    break"
   ]
  },
  {
   "cell_type": "code",
   "execution_count": 32,
   "id": "831acdea",
   "metadata": {
    "execution": {
     "iopub.execute_input": "2023-07-28T08:07:16.943759Z",
     "iopub.status.busy": "2023-07-28T08:07:16.943388Z",
     "iopub.status.idle": "2023-07-28T08:07:16.949883Z",
     "shell.execute_reply": "2023-07-28T08:07:16.948941Z"
    },
    "papermill": {
     "duration": 0.057021,
     "end_time": "2023-07-28T08:07:16.952025",
     "exception": false,
     "start_time": "2023-07-28T08:07:16.895004",
     "status": "completed"
    },
    "tags": []
   },
   "outputs": [
    {
     "data": {
      "text/plain": [
       "torch.Size([256, 1, 256, 256])"
      ]
     },
     "execution_count": 32,
     "metadata": {},
     "output_type": "execute_result"
    }
   ],
   "source": [
    "i.shape"
   ]
  },
  {
   "cell_type": "code",
   "execution_count": 33,
   "id": "589acef5",
   "metadata": {
    "execution": {
     "iopub.execute_input": "2023-07-28T08:07:17.047555Z",
     "iopub.status.busy": "2023-07-28T08:07:17.046581Z",
     "iopub.status.idle": "2023-07-28T08:07:17.241070Z",
     "shell.execute_reply": "2023-07-28T08:07:17.239983Z"
    },
    "papermill": {
     "duration": 0.245024,
     "end_time": "2023-07-28T08:07:17.243439",
     "exception": false,
     "start_time": "2023-07-28T08:07:16.998415",
     "status": "completed"
    },
    "tags": []
   },
   "outputs": [
    {
     "name": "stdout",
     "output_type": "stream",
     "text": [
      "tensor(229)\n"
     ]
    },
    {
     "data": {
      "image/png": "[encoded data removed]",
      "text/plain": [
       "<Figure size 432x288 with 1 Axes>"
      ]
     },
     "metadata": {
      "needs_background": "light"
     },
     "output_type": "display_data"
    }
   ],
   "source": [
    "plt.imshow(i[0][0])\n",
    "print(j[0])"
   ]
  },
  {
   "cell_type": "code",
   "execution_count": 34,
   "id": "25234cc6",
   "metadata": {
    "execution": {
     "iopub.execute_input": "2023-07-28T08:07:17.340637Z",
     "iopub.status.busy": "2023-07-28T08:07:17.339676Z",
     "iopub.status.idle": "2023-07-28T08:07:17.468332Z",
     "shell.execute_reply": "2023-07-28T08:07:17.467124Z"
    },
    "papermill": {
     "duration": 0.17973,
     "end_time": "2023-07-28T08:07:17.471211",
     "exception": false,
     "start_time": "2023-07-28T08:07:17.291481",
     "status": "completed"
    },
    "tags": []
   },
   "outputs": [
    {
     "data": {
      "text/plain": [
       "2971"
      ]
     },
     "execution_count": 34,
     "metadata": {},
     "output_type": "execute_result"
    }
   ],
   "source": [
    "del i,j\n",
    "gc.collect()"
   ]
  },
  {
   "cell_type": "code",
   "execution_count": 35,
   "id": "e3037a58",
   "metadata": {
    "execution": {
     "iopub.execute_input": "2023-07-28T08:07:17.576004Z",
     "iopub.status.busy": "2023-07-28T08:07:17.575628Z",
     "iopub.status.idle": "2023-07-28T08:07:18.468466Z",
     "shell.execute_reply": "2023-07-28T08:07:18.467322Z"
    },
    "papermill": {
     "duration": 0.948557,
     "end_time": "2023-07-28T08:07:18.471298",
     "exception": false,
     "start_time": "2023-07-28T08:07:17.522741",
     "status": "completed"
    },
    "tags": []
   },
   "outputs": [
    {
     "name": "stderr",
     "output_type": "stream",
     "text": [
      "Downloading: \"https://download.pytorch.org/models/resnet18-f37072fd.pth\" to /root/.cache/torch/hub/checkpoints/resnet18-f37072fd.pth\n"
     ]
    },
    {
     "data": {
      "application/vnd.jupyter.widget-view+json": {
       "model_id": "b12e0749160146bd8ca31f9d86651fa3",
       "version_major": 2,
       "version_minor": 0
      },
      "text/plain": [
       "  0%|          | 0.00/44.7M [00:00<?, ?B/s]"
      ]
     },
     "metadata": {},
     "output_type": "display_data"
    }
   ],
   "source": [
    "model = torchvision.models.resnet18(pretrained=True)\n",
    "device = torch.device('cuda' if torch.cuda.is_available() else 'cpu')\n"
   ]
  },
  {
   "cell_type": "code",
   "execution_count": 36,
   "id": "5dc02d2c",
   "metadata": {
    "execution": {
     "iopub.execute_input": "2023-07-28T08:07:18.575032Z",
     "iopub.status.busy": "2023-07-28T08:07:18.574663Z",
     "iopub.status.idle": "2023-07-28T08:07:18.582304Z",
     "shell.execute_reply": "2023-07-28T08:07:18.581349Z"
    },
    "papermill": {
     "duration": 0.06292,
     "end_time": "2023-07-28T08:07:18.584527",
     "exception": false,
     "start_time": "2023-07-28T08:07:18.521607",
     "status": "completed"
    },
    "tags": []
   },
   "outputs": [
    {
     "data": {
      "text/plain": [
       "device(type='cuda')"
      ]
     },
     "execution_count": 36,
     "metadata": {},
     "output_type": "execute_result"
    }
   ],
   "source": [
    "device"
   ]
  },
  {
   "cell_type": "code",
   "execution_count": 37,
   "id": "86439f57",
   "metadata": {
    "execution": {
     "iopub.execute_input": "2023-07-28T08:07:18.681026Z",
     "iopub.status.busy": "2023-07-28T08:07:18.680072Z",
     "iopub.status.idle": "2023-07-28T08:07:18.687222Z",
     "shell.execute_reply": "2023-07-28T08:07:18.686236Z"
    },
    "papermill": {
     "duration": 0.057831,
     "end_time": "2023-07-28T08:07:18.689380",
     "exception": false,
     "start_time": "2023-07-28T08:07:18.631549",
     "status": "completed"
    },
    "tags": []
   },
   "outputs": [],
   "source": [
    "criterion = nn.CrossEntropyLoss()\n",
    "optimizer = torch.optim.Adam(model.parameters(), lr=0.002, amsgrad = True)\n",
    "scheduler = torch.optim.lr_scheduler.MultiStepLR(optimizer, milestones=[5000, 12000, 18000], gamma=0.5)"
   ]
  },
  {
   "cell_type": "code",
   "execution_count": 38,
   "id": "cdc05f0b",
   "metadata": {
    "execution": {
     "iopub.execute_input": "2023-07-28T08:07:18.785659Z",
     "iopub.status.busy": "2023-07-28T08:07:18.785291Z",
     "iopub.status.idle": "2023-07-28T08:07:21.960525Z",
     "shell.execute_reply": "2023-07-28T08:07:21.959486Z"
    },
    "papermill": {
     "duration": 3.226344,
     "end_time": "2023-07-28T08:07:21.963245",
     "exception": false,
     "start_time": "2023-07-28T08:07:18.736901",
     "status": "completed"
    },
    "tags": []
   },
   "outputs": [],
   "source": [
    "num_ftrs = model.fc.in_features\n",
    "model.fc = nn.Linear(num_ftrs, 340)\n",
    "model = model.to(device)"
   ]
  },
  {
   "cell_type": "code",
   "execution_count": 39,
   "id": "a1319438",
   "metadata": {
    "execution": {
     "iopub.execute_input": "2023-07-28T08:07:22.059602Z",
     "iopub.status.busy": "2023-07-28T08:07:22.059206Z",
     "iopub.status.idle": "2023-07-28T08:07:22.066212Z",
     "shell.execute_reply": "2023-07-28T08:07:22.065194Z"
    },
    "papermill": {
     "duration": 0.058122,
     "end_time": "2023-07-28T08:07:22.068991",
     "exception": false,
     "start_time": "2023-07-28T08:07:22.010869",
     "status": "completed"
    },
    "tags": []
   },
   "outputs": [],
   "source": [
    "dataloaders={\"train\":dls_tr,\"valid\":dls_te}"
   ]
  },
  {
   "cell_type": "code",
   "execution_count": 40,
   "id": "844e363d",
   "metadata": {
    "execution": {
     "iopub.execute_input": "2023-07-28T08:07:22.169004Z",
     "iopub.status.busy": "2023-07-28T08:07:22.168629Z",
     "iopub.status.idle": "2023-07-28T08:07:22.293430Z",
     "shell.execute_reply": "2023-07-28T08:07:22.292434Z"
    },
    "papermill": {
     "duration": 0.177267,
     "end_time": "2023-07-28T08:07:22.295730",
     "exception": false,
     "start_time": "2023-07-28T08:07:22.118463",
     "status": "completed"
    },
    "tags": []
   },
   "outputs": [
    {
     "data": {
      "text/plain": [
       "141"
      ]
     },
     "execution_count": 40,
     "metadata": {},
     "output_type": "execute_result"
    }
   ],
   "source": [
    "del dls_tr,dls_te\n",
    "gc.collect()"
   ]
  },
  {
   "cell_type": "code",
   "execution_count": 41,
   "id": "bd8583bf",
   "metadata": {
    "execution": {
     "iopub.execute_input": "2023-07-28T08:07:22.393108Z",
     "iopub.status.busy": "2023-07-28T08:07:22.392364Z",
     "iopub.status.idle": "2023-07-28T08:07:22.407495Z",
     "shell.execute_reply": "2023-07-28T08:07:22.406581Z"
    },
    "papermill": {
     "duration": 0.06639,
     "end_time": "2023-07-28T08:07:22.409726",
     "exception": false,
     "start_time": "2023-07-28T08:07:22.343336",
     "status": "completed"
    },
    "tags": []
   },
   "outputs": [],
   "source": [
    "def train_model(model, criterion, optimizer, scheduler, num_epochs=25):\n",
    "    since = time.time()\n",
    "\n",
    "    best_model_wts = copy.deepcopy(model.state_dict())\n",
    "    best_acc = 0.0\n",
    "\n",
    "    for epoch in range(num_epochs):\n",
    "        print(f'Epoch {epoch}/{num_epochs - 1}')\n",
    "        print('-' * 10)\n",
    "\n",
    "        # Each epoch has a training and validation phase\n",
    "        for phase in ['train', 'valid']:\n",
    "            if phase == 'train':\n",
    "                model.train()  # Set model to training mode\n",
    "            else:\n",
    "                model.eval()   # Set model to evaluate mode\n",
    "\n",
    "            running_loss = 0.0\n",
    "            running_corrects = 0\n",
    "            #global inputs\n",
    "            # Iterate over data.\n",
    "            for inputs, labels in dataloaders[phase]:\n",
    "                inputs = inputs.to(device)\n",
    "                labels = labels.to(device)\n",
    "\n",
    "                # zero the parameter gradients\n",
    "                optimizer.zero_grad()\n",
    "\n",
    "                # forward\n",
    "                # track history if only in train\n",
    "                with torch.set_grad_enabled(phase == 'train'):\n",
    "                    \n",
    "                    outputs = model(inputs/255)\n",
    "                    _, preds = torch.max(outputs, 1)\n",
    "                    loss = criterion(outputs, labels)\n",
    "\n",
    "                    # backward + optimize only if in training phase\n",
    "                    if phase == 'train':\n",
    "                        loss.backward()\n",
    "                        optimizer.step()\n",
    "\n",
    "                # statistics\n",
    "                running_loss += loss.item() * inputs.size(0)\n",
    "                running_corrects += torch.sum(preds == labels.data)\n",
    "            if phase == 'train':\n",
    "                scheduler.step()\n",
    "\n",
    "            epoch_loss = running_loss / dataset_sizes[phase]\n",
    "            epoch_acc = running_corrects.double() / dataset_sizes[phase]\n",
    "\n",
    "            print(f'{phase} Loss: {epoch_loss:.4f} Acc: {epoch_acc:.4f}')\n",
    "\n",
    "            # deep copy the model\n",
    "            if phase == 'valid' and epoch_acc > best_acc:\n",
    "                best_acc = epoch_acc\n",
    "                best_model_wts = copy.deepcopy(model.state_dict())\n",
    "\n",
    "        print()\n",
    "\n",
    "    time_elapsed = time.time() - since\n",
    "    print(f'Training complete in {time_elapsed // 60:.0f}m {time_elapsed % 60:.0f}s')\n",
    "    print(f'Best val Acc: {best_acc:4f}')\n",
    "    del best_acc,epoch_loss,epoch_acc\n",
    "    gc.collect()\n",
    "    # load best model weights\n",
    "    model.load_state_dict(best_model_wts)\n",
    "    return model"
   ]
  },
  {
   "cell_type": "code",
   "execution_count": 42,
   "id": "f7dd9b4d",
   "metadata": {
    "execution": {
     "iopub.execute_input": "2023-07-28T08:07:22.507387Z",
     "iopub.status.busy": "2023-07-28T08:07:22.506637Z",
     "iopub.status.idle": "2023-07-28T08:07:22.516306Z",
     "shell.execute_reply": "2023-07-28T08:07:22.515326Z"
    },
    "papermill": {
     "duration": 0.06107,
     "end_time": "2023-07-28T08:07:22.518437",
     "exception": false,
     "start_time": "2023-07-28T08:07:22.457367",
     "status": "completed"
    },
    "tags": []
   },
   "outputs": [],
   "source": [
    "def visualize_model(model, num_images=6):\n",
    "    was_training = model.training\n",
    "    model.eval()\n",
    "    images_so_far = 0\n",
    "    fig = plt.figure()\n",
    "\n",
    "    with torch.no_grad():\n",
    "        for i, (inputs, labels) in enumerate(dataloaders['valid']):\n",
    "            \n",
    "            inputs = inputs.to(device)\n",
    "            labels = labels.to(device)\n",
    "\n",
    "            outputs = model(inputs/255)\n",
    "            _, preds = torch.max(outputs, 1)\n",
    "\n",
    "            for j in range(inputs.size()[0]):\n",
    "                images_so_far += 1\n",
    "                ax = plt.subplot(num_images//2, 2, images_so_far)\n",
    "                ax.axis('off')\n",
    "                \n",
    "                ax.set_title(f'predicted: {decode_labels(j)}')\n",
    "                plt.imshow(inputs.cpu().data[j][0])\n",
    "\n",
    "                if images_so_far == num_images:\n",
    "                    model.train(mode=was_training)\n",
    "                    return\n",
    "        model.train(mode=was_training)"
   ]
  },
  {
   "cell_type": "code",
   "execution_count": 43,
   "id": "72d26f9d",
   "metadata": {
    "execution": {
     "iopub.execute_input": "2023-07-28T08:07:22.614603Z",
     "iopub.status.busy": "2023-07-28T08:07:22.614267Z",
     "iopub.status.idle": "2023-07-28T08:07:22.633050Z",
     "shell.execute_reply": "2023-07-28T08:07:22.631959Z"
    },
    "papermill": {
     "duration": 0.069565,
     "end_time": "2023-07-28T08:07:22.635303",
     "exception": false,
     "start_time": "2023-07-28T08:07:22.565738",
     "status": "completed"
    },
    "tags": []
   },
   "outputs": [
    {
     "data": {
      "text/plain": [
       "Conv2d(1, 64, kernel_size=(7, 7), stride=(2, 2), padding=(3, 3), bias=False)"
      ]
     },
     "execution_count": 43,
     "metadata": {},
     "output_type": "execute_result"
    }
   ],
   "source": [
    "def squeeze_weights(m):\n",
    "    m.weight.data = m.weight.data.sum(dim=1)[:,None]\n",
    "    m.in_channels = 1\n",
    "\n",
    "model.conv1.apply(squeeze_weights)"
   ]
  },
  {
   "cell_type": "code",
   "execution_count": 44,
   "id": "69363459",
   "metadata": {
    "execution": {
     "iopub.execute_input": "2023-07-28T08:07:22.732578Z",
     "iopub.status.busy": "2023-07-28T08:07:22.731655Z",
     "iopub.status.idle": "2023-07-28T08:07:22.736498Z",
     "shell.execute_reply": "2023-07-28T08:07:22.735576Z"
    },
    "papermill": {
     "duration": 0.055698,
     "end_time": "2023-07-28T08:07:22.738576",
     "exception": false,
     "start_time": "2023-07-28T08:07:22.682878",
     "status": "completed"
    },
    "tags": []
   },
   "outputs": [],
   "source": [
    "#inputs/255"
   ]
  },
  {
   "cell_type": "code",
   "execution_count": 45,
   "id": "67a9827a",
   "metadata": {
    "execution": {
     "iopub.execute_input": "2023-07-28T08:07:22.835113Z",
     "iopub.status.busy": "2023-07-28T08:07:22.834779Z",
     "iopub.status.idle": "2023-07-28T09:59:58.120196Z",
     "shell.execute_reply": "2023-07-28T09:59:58.119211Z"
    },
    "papermill": {
     "duration": 6755.337751,
     "end_time": "2023-07-28T09:59:58.123529",
     "exception": false,
     "start_time": "2023-07-28T08:07:22.785778",
     "status": "completed"
    },
    "tags": []
   },
   "outputs": [
    {
     "name": "stdout",
     "output_type": "stream",
     "text": [
      "Epoch 0/24\n",
      "----------\n",
      "train Loss: 2.7109 Acc: 0.4698\n",
      "valid Loss: 0.2165 Acc: 0.0640\n",
      "\n",
      "Epoch 1/24\n",
      "----------\n",
      "train Loss: 1.5920 Acc: 0.6444\n",
      "valid Loss: 0.1751 Acc: 0.0708\n",
      "\n",
      "Epoch 2/24\n",
      "----------\n",
      "train Loss: 1.2790 Acc: 0.7024\n",
      "valid Loss: 0.1599 Acc: 0.0730\n",
      "\n",
      "Epoch 3/24\n",
      "----------\n",
      "train Loss: 1.0756 Acc: 0.7423\n",
      "valid Loss: 0.1517 Acc: 0.0755\n",
      "\n",
      "Epoch 4/24\n",
      "----------\n",
      "train Loss: 0.8891 Acc: 0.7832\n",
      "valid Loss: 0.1540 Acc: 0.0746\n",
      "\n",
      "Epoch 5/24\n",
      "----------\n",
      "train Loss: 0.7168 Acc: 0.8237\n",
      "valid Loss: 0.1551 Acc: 0.0752\n",
      "\n",
      "Epoch 6/24\n",
      "----------\n",
      "train Loss: 0.5477 Acc: 0.8659\n",
      "valid Loss: 0.1598 Acc: 0.0747\n",
      "\n",
      "Epoch 7/24\n",
      "----------\n",
      "train Loss: 0.4060 Acc: 0.9028\n",
      "valid Loss: 0.1625 Acc: 0.0752\n",
      "\n",
      "Epoch 8/24\n",
      "----------\n",
      "train Loss: 0.2750 Acc: 0.9380\n",
      "valid Loss: 0.1712 Acc: 0.0739\n",
      "\n",
      "Epoch 9/24\n",
      "----------\n",
      "train Loss: 0.1737 Acc: 0.9635\n",
      "valid Loss: 0.1717 Acc: 0.0745\n",
      "\n",
      "Epoch 10/24\n",
      "----------\n",
      "train Loss: 0.0945 Acc: 0.9835\n",
      "valid Loss: 0.1745 Acc: 0.0751\n",
      "\n",
      "Epoch 11/24\n",
      "----------\n",
      "train Loss: 0.0484 Acc: 0.9930\n",
      "valid Loss: 0.1767 Acc: 0.0758\n",
      "\n",
      "Epoch 12/24\n",
      "----------\n",
      "train Loss: 0.0233 Acc: 0.9970\n",
      "valid Loss: 0.1789 Acc: 0.0760\n",
      "\n",
      "Epoch 13/24\n",
      "----------\n",
      "train Loss: 0.0134 Acc: 0.9984\n",
      "valid Loss: 0.1812 Acc: 0.0761\n",
      "\n",
      "Epoch 14/24\n",
      "----------\n",
      "train Loss: 0.0091 Acc: 0.9989\n",
      "valid Loss: 0.1832 Acc: 0.0762\n",
      "\n",
      "Epoch 15/24\n",
      "----------\n",
      "train Loss: 0.0070 Acc: 0.9991\n",
      "valid Loss: 0.1851 Acc: 0.0761\n",
      "\n",
      "Epoch 16/24\n",
      "----------\n",
      "train Loss: 0.0055 Acc: 0.9993\n",
      "valid Loss: 0.1871 Acc: 0.0760\n",
      "\n",
      "Epoch 17/24\n",
      "----------\n",
      "train Loss: 0.0047 Acc: 0.9994\n",
      "valid Loss: 0.1877 Acc: 0.0760\n",
      "\n",
      "Epoch 18/24\n",
      "----------\n",
      "train Loss: 0.0040 Acc: 0.9995\n",
      "valid Loss: 0.1879 Acc: 0.0762\n",
      "\n",
      "Epoch 19/24\n",
      "----------\n",
      "train Loss: 0.0033 Acc: 0.9996\n",
      "valid Loss: 0.1904 Acc: 0.0757\n",
      "\n",
      "Epoch 20/24\n",
      "----------\n",
      "train Loss: 0.0030 Acc: 0.9995\n",
      "valid Loss: 0.1904 Acc: 0.0758\n",
      "\n",
      "Epoch 21/24\n",
      "----------\n",
      "train Loss: 0.0024 Acc: 0.9997\n",
      "valid Loss: 0.1917 Acc: 0.0756\n",
      "\n",
      "Epoch 22/24\n",
      "----------\n",
      "train Loss: 0.0021 Acc: 0.9997\n",
      "valid Loss: 0.1920 Acc: 0.0757\n",
      "\n",
      "Epoch 23/24\n",
      "----------\n",
      "train Loss: 0.0018 Acc: 0.9997\n",
      "valid Loss: 0.1941 Acc: 0.0754\n",
      "\n",
      "Epoch 24/24\n",
      "----------\n",
      "train Loss: 0.0020 Acc: 0.9997\n",
      "valid Loss: 0.1946 Acc: 0.0755\n",
      "\n",
      "Training complete in 112m 35s\n",
      "Best val Acc: 0.076189\n"
     ]
    }
   ],
   "source": [
    "model_ft = train_model(model, criterion, optimizer, scheduler, num_epochs=25)"
   ]
  },
  {
   "cell_type": "code",
   "execution_count": 46,
   "id": "b977e6a4",
   "metadata": {
    "execution": {
     "iopub.execute_input": "2023-07-28T09:59:58.230760Z",
     "iopub.status.busy": "2023-07-28T09:59:58.230392Z",
     "iopub.status.idle": "2023-07-28T09:59:58.235146Z",
     "shell.execute_reply": "2023-07-28T09:59:58.234106Z"
    },
    "papermill": {
     "duration": 0.060259,
     "end_time": "2023-07-28T09:59:58.237328",
     "exception": false,
     "start_time": "2023-07-28T09:59:58.177069",
     "status": "completed"
    },
    "tags": []
   },
   "outputs": [],
   "source": [
    "del model"
   ]
  },
  {
   "cell_type": "code",
   "execution_count": 47,
   "id": "43dbfb4a",
   "metadata": {
    "execution": {
     "iopub.execute_input": "2023-07-28T09:59:58.345712Z",
     "iopub.status.busy": "2023-07-28T09:59:58.345308Z",
     "iopub.status.idle": "2023-07-28T09:59:58.475632Z",
     "shell.execute_reply": "2023-07-28T09:59:58.474518Z"
    },
    "papermill": {
     "duration": 0.187699,
     "end_time": "2023-07-28T09:59:58.478074",
     "exception": false,
     "start_time": "2023-07-28T09:59:58.290375",
     "status": "completed"
    },
    "tags": []
   },
   "outputs": [
    {
     "data": {
      "text/plain": [
       "42"
      ]
     },
     "execution_count": 47,
     "metadata": {},
     "output_type": "execute_result"
    }
   ],
   "source": [
    "gc.collect()"
   ]
  },
  {
   "cell_type": "markdown",
   "id": "0b624f11",
   "metadata": {
    "papermill": {
     "duration": 0.051947,
     "end_time": "2023-07-28T09:59:58.583898",
     "exception": false,
     "start_time": "2023-07-28T09:59:58.531951",
     "status": "completed"
    },
    "tags": []
   },
   "source": [
    "# visualizing results"
   ]
  },
  {
   "cell_type": "code",
   "execution_count": 48,
   "id": "f41aed0c",
   "metadata": {
    "execution": {
     "iopub.execute_input": "2023-07-28T09:59:58.691291Z",
     "iopub.status.busy": "2023-07-28T09:59:58.690889Z",
     "iopub.status.idle": "2023-07-28T09:59:58.696133Z",
     "shell.execute_reply": "2023-07-28T09:59:58.695192Z"
    },
    "papermill": {
     "duration": 0.062366,
     "end_time": "2023-07-28T09:59:58.698298",
     "exception": false,
     "start_time": "2023-07-28T09:59:58.635932",
     "status": "completed"
    },
    "tags": []
   },
   "outputs": [],
   "source": [
    "\n",
    "dec_dict = {v: k for k , v in legend.items()}\n",
    "\n",
    "def decode_labels(label):\n",
    "    return dec_dict[label]"
   ]
  },
  {
   "cell_type": "code",
   "execution_count": 49,
   "id": "31efbe59",
   "metadata": {
    "execution": {
     "iopub.execute_input": "2023-07-28T09:59:58.808195Z",
     "iopub.status.busy": "2023-07-28T09:59:58.807804Z",
     "iopub.status.idle": "2023-07-28T09:59:59.350202Z",
     "shell.execute_reply": "2023-07-28T09:59:59.348949Z"
    },
    "papermill": {
     "duration": 0.600465,
     "end_time": "2023-07-28T09:59:59.352749",
     "exception": false,
     "start_time": "2023-07-28T09:59:58.752284",
     "status": "completed"
    },
    "tags": []
   },
   "outputs": [
    {
     "data": {
      "image/png": "[encoded data removed]",
      "text/plain": [
       "<Figure size 432x288 with 6 Axes>"
      ]
     },
     "metadata": {
      "needs_background": "light"
     },
     "output_type": "display_data"
    }
   ],
   "source": [
    "visualize_model(model_ft)"
   ]
  },
  {
   "cell_type": "code",
   "execution_count": 50,
   "id": "9b4b8eff",
   "metadata": {
    "execution": {
     "iopub.execute_input": "2023-07-28T09:59:59.462515Z",
     "iopub.status.busy": "2023-07-28T09:59:59.462114Z",
     "iopub.status.idle": "2023-07-28T09:59:59.833842Z",
     "shell.execute_reply": "2023-07-28T09:59:59.832656Z"
    },
    "papermill": {
     "duration": 0.430685,
     "end_time": "2023-07-28T09:59:59.836898",
     "exception": false,
     "start_time": "2023-07-28T09:59:59.406213",
     "status": "completed"
    },
    "tags": []
   },
   "outputs": [
    {
     "data": {
      "text/plain": [
       "14107"
      ]
     },
     "execution_count": 50,
     "metadata": {},
     "output_type": "execute_result"
    }
   ],
   "source": [
    "del dataloaders,legend\n",
    "gc.collect()"
   ]
  },
  {
   "cell_type": "code",
   "execution_count": 51,
   "id": "e5f383df",
   "metadata": {
    "execution": {
     "iopub.execute_input": "2023-07-28T09:59:59.946153Z",
     "iopub.status.busy": "2023-07-28T09:59:59.945099Z",
     "iopub.status.idle": "2023-07-28T10:00:00.020175Z",
     "shell.execute_reply": "2023-07-28T10:00:00.019157Z"
    },
    "papermill": {
     "duration": 0.131739,
     "end_time": "2023-07-28T10:00:00.022516",
     "exception": false,
     "start_time": "2023-07-28T09:59:59.890777",
     "status": "completed"
    },
    "tags": []
   },
   "outputs": [],
   "source": [
    "torch.cuda.empty_cache() "
   ]
  },
  {
   "cell_type": "code",
   "execution_count": 52,
   "id": "ca9c8ac9",
   "metadata": {
    "execution": {
     "iopub.execute_input": "2023-07-28T10:00:00.211976Z",
     "iopub.status.busy": "2023-07-28T10:00:00.211602Z",
     "iopub.status.idle": "2023-07-28T10:00:00.337870Z",
     "shell.execute_reply": "2023-07-28T10:00:00.336748Z"
    },
    "papermill": {
     "duration": 0.264847,
     "end_time": "2023-07-28T10:00:00.340312",
     "exception": false,
     "start_time": "2023-07-28T10:00:00.075465",
     "status": "completed"
    },
    "tags": []
   },
   "outputs": [
    {
     "data": {
      "text/plain": [
       "42"
      ]
     },
     "execution_count": 52,
     "metadata": {},
     "output_type": "execute_result"
    }
   ],
   "source": [
    "gc.collect()"
   ]
  },
  {
   "cell_type": "markdown",
   "id": "abbc3133",
   "metadata": {
    "papermill": {
     "duration": 0.052527,
     "end_time": "2023-07-28T10:00:00.445725",
     "exception": false,
     "start_time": "2023-07-28T10:00:00.393198",
     "status": "completed"
    },
    "tags": []
   },
   "source": [
    "# preping testset and submission file"
   ]
  },
  {
   "cell_type": "code",
   "execution_count": 53,
   "id": "437a2316",
   "metadata": {
    "execution": {
     "iopub.execute_input": "2023-07-28T10:00:00.553694Z",
     "iopub.status.busy": "2023-07-28T10:00:00.551850Z",
     "iopub.status.idle": "2023-07-28T10:00:00.559178Z",
     "shell.execute_reply": "2023-07-28T10:00:00.558232Z"
    },
    "papermill": {
     "duration": 0.063318,
     "end_time": "2023-07-28T10:00:00.561428",
     "exception": false,
     "start_time": "2023-07-28T10:00:00.498110",
     "status": "completed"
    },
    "tags": []
   },
   "outputs": [],
   "source": [
    "class testdf(torch.utils.data.Dataset):\n",
    "    def __init__(self,df):\n",
    "        self.DF=df\n",
    "\n",
    "    def __len__(self):\n",
    "        return self.DF.shape[0]\n",
    "    \n",
    "    def __getitem__(self,index):\n",
    "        image=self.DF.image.iloc[index]\n",
    "        image=np.array([image])\n",
    "        return image"
   ]
  },
  {
   "cell_type": "code",
   "execution_count": 54,
   "id": "146ac751",
   "metadata": {
    "execution": {
     "iopub.execute_input": "2023-07-28T10:00:00.668611Z",
     "iopub.status.busy": "2023-07-28T10:00:00.668236Z",
     "iopub.status.idle": "2023-07-28T10:00:02.094111Z",
     "shell.execute_reply": "2023-07-28T10:00:02.093123Z"
    },
    "papermill": {
     "duration": 1.482388,
     "end_time": "2023-07-28T10:00:02.096300",
     "exception": false,
     "start_time": "2023-07-28T10:00:00.613912",
     "status": "completed"
    },
    "tags": []
   },
   "outputs": [
    {
     "data": {
      "text/plain": [
       "42"
      ]
     },
     "execution_count": 54,
     "metadata": {},
     "output_type": "execute_result"
    }
   ],
   "source": [
    "test=pd.read_csv(\"../input/quickdraw-doodle-recognition/test_simplified.csv\").drawing\n",
    "gc.collect()"
   ]
  },
  {
   "cell_type": "code",
   "execution_count": 55,
   "id": "58b337c6",
   "metadata": {
    "execution": {
     "iopub.execute_input": "2023-07-28T10:00:02.204461Z",
     "iopub.status.busy": "2023-07-28T10:00:02.203426Z",
     "iopub.status.idle": "2023-07-28T13:33:51.786397Z",
     "shell.execute_reply": "2023-07-28T13:33:51.785305Z"
    },
    "papermill": {
     "duration": 12829.640557,
     "end_time": "2023-07-28T13:33:51.789716",
     "exception": false,
     "start_time": "2023-07-28T10:00:02.149159",
     "status": "completed"
    },
    "tags": []
   },
   "outputs": [],
   "source": [
    "test1=pd.DataFrame({\"image\":get_ims(test)})"
   ]
  },
  {
   "cell_type": "code",
   "execution_count": 56,
   "id": "0afdc1dc",
   "metadata": {
    "execution": {
     "iopub.execute_input": "2023-07-28T13:33:51.901466Z",
     "iopub.status.busy": "2023-07-28T13:33:51.900404Z",
     "iopub.status.idle": "2023-07-28T13:33:52.042196Z",
     "shell.execute_reply": "2023-07-28T13:33:52.041235Z"
    },
    "papermill": {
     "duration": 0.19819,
     "end_time": "2023-07-28T13:33:52.044620",
     "exception": false,
     "start_time": "2023-07-28T13:33:51.846430",
     "status": "completed"
    },
    "tags": []
   },
   "outputs": [
    {
     "data": {
      "text/plain": [
       "21"
      ]
     },
     "execution_count": 56,
     "metadata": {},
     "output_type": "execute_result"
    }
   ],
   "source": [
    "del test\n",
    "gc.collect()"
   ]
  },
  {
   "cell_type": "code",
   "execution_count": 57,
   "id": "59bf877f",
   "metadata": {
    "execution": {
     "iopub.execute_input": "2023-07-28T13:33:52.152060Z",
     "iopub.status.busy": "2023-07-28T13:33:52.151045Z",
     "iopub.status.idle": "2023-07-28T13:33:52.157679Z",
     "shell.execute_reply": "2023-07-28T13:33:52.156678Z"
    },
    "papermill": {
     "duration": 0.062644,
     "end_time": "2023-07-28T13:33:52.159902",
     "exception": false,
     "start_time": "2023-07-28T13:33:52.097258",
     "status": "completed"
    },
    "tags": []
   },
   "outputs": [
    {
     "data": {
      "text/plain": [
       "[]"
      ]
     },
     "execution_count": 57,
     "metadata": {},
     "output_type": "execute_result"
    }
   ],
   "source": [
    "gc.garbage"
   ]
  },
  {
   "cell_type": "code",
   "execution_count": 58,
   "id": "2f9b67ed",
   "metadata": {
    "execution": {
     "iopub.execute_input": "2023-07-28T13:33:52.266727Z",
     "iopub.status.busy": "2023-07-28T13:33:52.265702Z",
     "iopub.status.idle": "2023-07-28T13:33:52.270913Z",
     "shell.execute_reply": "2023-07-28T13:33:52.269997Z"
    },
    "papermill": {
     "duration": 0.061054,
     "end_time": "2023-07-28T13:33:52.273066",
     "exception": false,
     "start_time": "2023-07-28T13:33:52.212012",
     "status": "completed"
    },
    "tags": []
   },
   "outputs": [],
   "source": [
    "test=testdf(test1)"
   ]
  },
  {
   "cell_type": "code",
   "execution_count": 59,
   "id": "38d84bed",
   "metadata": {
    "execution": {
     "iopub.execute_input": "2023-07-28T13:33:52.383953Z",
     "iopub.status.busy": "2023-07-28T13:33:52.383596Z",
     "iopub.status.idle": "2023-07-28T13:33:52.392643Z",
     "shell.execute_reply": "2023-07-28T13:33:52.391604Z"
    },
    "papermill": {
     "duration": 0.065539,
     "end_time": "2023-07-28T13:33:52.395115",
     "exception": false,
     "start_time": "2023-07-28T13:33:52.329576",
     "status": "completed"
    },
    "tags": []
   },
   "outputs": [],
   "source": [
    "testloader = DataLoader(test, batch_size=128*2, shuffle=False, num_workers=0)"
   ]
  },
  {
   "cell_type": "code",
   "execution_count": 60,
   "id": "51e1a9e9",
   "metadata": {
    "execution": {
     "iopub.execute_input": "2023-07-28T13:33:52.502870Z",
     "iopub.status.busy": "2023-07-28T13:33:52.502005Z",
     "iopub.status.idle": "2023-07-28T13:33:52.628921Z",
     "shell.execute_reply": "2023-07-28T13:33:52.627850Z"
    },
    "papermill": {
     "duration": 0.18364,
     "end_time": "2023-07-28T13:33:52.631190",
     "exception": false,
     "start_time": "2023-07-28T13:33:52.447550",
     "status": "completed"
    },
    "tags": []
   },
   "outputs": [
    {
     "data": {
      "text/plain": [
       "84"
      ]
     },
     "execution_count": 60,
     "metadata": {},
     "output_type": "execute_result"
    }
   ],
   "source": [
    "del test\n",
    "gc.collect()"
   ]
  },
  {
   "cell_type": "markdown",
   "id": "7a731df1",
   "metadata": {
    "papermill": {
     "duration": 0.052673,
     "end_time": "2023-07-28T13:33:52.737030",
     "exception": false,
     "start_time": "2023-07-28T13:33:52.684357",
     "status": "completed"
    },
    "tags": []
   },
   "source": [
    "# PREDICTION"
   ]
  },
  {
   "cell_type": "code",
   "execution_count": 61,
   "id": "c74dcaad",
   "metadata": {
    "execution": {
     "iopub.execute_input": "2023-07-28T13:33:52.844050Z",
     "iopub.status.busy": "2023-07-28T13:33:52.843677Z",
     "iopub.status.idle": "2023-07-28T13:34:51.946879Z",
     "shell.execute_reply": "2023-07-28T13:34:51.945842Z"
    },
    "papermill": {
     "duration": 59.159979,
     "end_time": "2023-07-28T13:34:51.949272",
     "exception": false,
     "start_time": "2023-07-28T13:33:52.789293",
     "status": "completed"
    },
    "tags": []
   },
   "outputs": [
    {
     "name": "stderr",
     "output_type": "stream",
     "text": [
      "100%|██████████| 439/439 [00:59<00:00,  7.43it/s]\n"
     ]
    }
   ],
   "source": [
    "\n",
    "model_ft.eval()\n",
    "model_ft = model_ft.to(device)\n",
    "labels = np.empty((0,3))\n",
    "#labels = labels.to(device)\n",
    "for x in tqdm.tqdm(testloader):\n",
    "    x = x.to(device)\n",
    "    output = model_ft(x/255)\n",
    "    _, pred = output.topk(3, 1, True, True)\n",
    "    labels = np.concatenate([labels, pred.cpu()], axis = 0)"
   ]
  },
  {
   "cell_type": "code",
   "execution_count": 62,
   "id": "f0f7b0ef",
   "metadata": {
    "execution": {
     "iopub.execute_input": "2023-07-28T13:34:52.122077Z",
     "iopub.status.busy": "2023-07-28T13:34:52.121056Z",
     "iopub.status.idle": "2023-07-28T13:35:56.032843Z",
     "shell.execute_reply": "2023-07-28T13:35:56.031799Z"
    },
    "papermill": {
     "duration": 64.000127,
     "end_time": "2023-07-28T13:35:56.035822",
     "exception": false,
     "start_time": "2023-07-28T13:34:52.035695",
     "status": "completed"
    },
    "tags": []
   },
   "outputs": [],
   "source": [
    "submission = pd.read_csv('../input/quickdraw-doodle-recognition/test_simplified.csv', index_col='key_id')\n",
    "submission.drop(['countrycode', 'drawing'], axis=1, inplace=True)\n",
    "submission['word'] = ''\n",
    "for i, label in enumerate(labels):\n",
    "    submission.word.iloc[i] = \" \".join([decode_labels(l) for l in label])"
   ]
  },
  {
   "cell_type": "code",
   "execution_count": 63,
   "id": "e253598c",
   "metadata": {
    "execution": {
     "iopub.execute_input": "2023-07-28T13:35:56.210277Z",
     "iopub.status.busy": "2023-07-28T13:35:56.209873Z",
     "iopub.status.idle": "2023-07-28T13:35:56.572920Z",
     "shell.execute_reply": "2023-07-28T13:35:56.571915Z"
    },
    "papermill": {
     "duration": 0.453089,
     "end_time": "2023-07-28T13:35:56.575985",
     "exception": false,
     "start_time": "2023-07-28T13:35:56.122896",
     "status": "completed"
    },
    "tags": []
   },
   "outputs": [],
   "source": [
    "submission.to_csv(\"submission.csv\")"
   ]
  },
  {
   "cell_type": "code",
   "execution_count": 64,
   "id": "6ec6f51c",
   "metadata": {
    "execution": {
     "iopub.execute_input": "2023-07-28T13:35:56.750088Z",
     "iopub.status.busy": "2023-07-28T13:35:56.749108Z",
     "iopub.status.idle": "2023-07-28T13:35:56.763701Z",
     "shell.execute_reply": "2023-07-28T13:35:56.762835Z"
    },
    "papermill": {
     "duration": 0.103038,
     "end_time": "2023-07-28T13:35:56.765714",
     "exception": false,
     "start_time": "2023-07-28T13:35:56.662676",
     "status": "completed"
    },
    "tags": []
   },
   "outputs": [
    {
     "data": {
      "text/html": [
       "<div>\n",
       "<style scoped>\n",
       "    .dataframe tbody tr th:only-of-type {\n",
       "        vertical-align: middle;\n",
       "    }\n",
       "\n",
       "    .dataframe tbody tr th {\n",
       "        vertical-align: top;\n",
       "    }\n",
       "\n",
       "    .dataframe thead th {\n",
       "        text-align: right;\n",
       "    }\n",
       "</style>\n",
       "<table border=\"1\" class=\"dataframe\">\n",
       "  <thead>\n",
       "    <tr style=\"text-align: right;\">\n",
       "      <th></th>\n",
       "      <th>word</th>\n",
       "    </tr>\n",
       "    <tr>\n",
       "      <th>key_id</th>\n",
       "      <th></th>\n",
       "    </tr>\n",
       "  </thead>\n",
       "  <tbody>\n",
       "    <tr>\n",
       "      <th>9000003627287624</th>\n",
       "      <td>radio stereo snorkel</td>\n",
       "    </tr>\n",
       "    <tr>\n",
       "      <th>9000010688666847</th>\n",
       "      <td>hockey puck belt pool</td>\n",
       "    </tr>\n",
       "    <tr>\n",
       "      <th>9000023642890129</th>\n",
       "      <td>The Great Wall of China castle squiggle</td>\n",
       "    </tr>\n",
       "    <tr>\n",
       "      <th>9000038588854897</th>\n",
       "      <td>mountain pliers saw</td>\n",
       "    </tr>\n",
       "    <tr>\n",
       "      <th>9000052667981386</th>\n",
       "      <td>campfire fireplace mouth</td>\n",
       "    </tr>\n",
       "    <tr>\n",
       "      <th>...</th>\n",
       "      <td>...</td>\n",
       "    </tr>\n",
       "    <tr>\n",
       "      <th>9999946504414373</th>\n",
       "      <td>blueberry strawberry apple</td>\n",
       "    </tr>\n",
       "    <tr>\n",
       "      <th>9999967586702768</th>\n",
       "      <td>skull cow mushroom</td>\n",
       "    </tr>\n",
       "    <tr>\n",
       "      <th>9999968529902445</th>\n",
       "      <td>rain bush garden</td>\n",
       "    </tr>\n",
       "    <tr>\n",
       "      <th>9999969540362833</th>\n",
       "      <td>brain camouflage pond</td>\n",
       "    </tr>\n",
       "    <tr>\n",
       "      <th>9999996442242305</th>\n",
       "      <td>chair laptop cooler</td>\n",
       "    </tr>\n",
       "  </tbody>\n",
       "</table>\n",
       "<p>112199 rows × 1 columns</p>\n",
       "</div>"
      ],
      "text/plain": [
       "                                                     word\n",
       "key_id                                                   \n",
       "9000003627287624                     radio stereo snorkel\n",
       "9000010688666847                    hockey puck belt pool\n",
       "9000023642890129  The Great Wall of China castle squiggle\n",
       "9000038588854897                      mountain pliers saw\n",
       "9000052667981386                 campfire fireplace mouth\n",
       "...                                                   ...\n",
       "9999946504414373               blueberry strawberry apple\n",
       "9999967586702768                       skull cow mushroom\n",
       "9999968529902445                         rain bush garden\n",
       "9999969540362833                    brain camouflage pond\n",
       "9999996442242305                      chair laptop cooler\n",
       "\n",
       "[112199 rows x 1 columns]"
      ]
     },
     "execution_count": 64,
     "metadata": {},
     "output_type": "execute_result"
    }
   ],
   "source": [
    "submission"
   ]
  },
  {
   "cell_type": "code",
   "execution_count": null,
   "id": "6d05b128",
   "metadata": {
    "papermill": {
     "duration": 0.086426,
     "end_time": "2023-07-28T13:35:56.937505",
     "exception": false,
     "start_time": "2023-07-28T13:35:56.851079",
     "status": "completed"
    },
    "tags": []
   },
   "outputs": [],
   "source": []
  }
 ],
 "metadata": {
  "kernelspec": {
   "display_name": "Python 3",
   "language": "python",
   "name": "python3"
  },
  "language_info": {
   "codemirror_mode": {
    "name": "ipython",
    "version": 3
   },
   "file_extension": ".py",
   "mimetype": "text/x-python",
   "name": "python",
   "nbconvert_exporter": "python",
   "pygments_lexer": "ipython3",
   "version": "3.7.12"
  },
  "papermill": {
   "default_parameters": {},
   "duration": 37990.64076,
   "end_time": "2023-07-28T13:36:00.892035",
   "environment_variables": {},
   "exception": null,
   "input_path": "__notebook__.ipynb",
   "output_path": "__notebook__.ipynb",
   "parameters": {},
   "start_time": "2023-07-28T03:02:50.251275",
   "version": "2.3.4"
  },
  "widgets": {
   "application/vnd.jupyter.widget-state+json": {
    "state": {
     "1a591ab481b44e5a8a10b222edeb334e": {
      "model_module": "@jupyter-widgets/controls",
      "model_module_version": "1.5.0",
      "model_name": "FloatProgressModel",
      "state": {
       "_dom_classes": [],
       "_model_module": "@jupyter-widgets/controls",
       "_model_module_version": "1.5.0",
       "_model_name": "FloatProgressModel",
       "_view_count": null,
       "_view_module": "@jupyter-widgets/controls",
       "_view_module_version": "1.5.0",
       "_view_name": "ProgressView",
       "bar_style": "success",
       "description": "",
       "description_tooltip": null,
       "layout": "IPY_MODEL_384190d6d5574de98996b38ccd19ad44",
       "max": 46830571.0,
       "min": 0.0,
       "orientation": "horizontal",
       "style": "IPY_MODEL_b163fa887769424490c4fda1ed433bff",
       "value": 46830571.0
      }
     },
     "3026ff2c15c644598694d93e7cd2c9f7": {
      "model_module": "@jupyter-widgets/controls",
      "model_module_version": "1.5.0",
      "model_name": "HTMLModel",
      "state": {
       "_dom_classes": [],
       "_model_module": "@jupyter-widgets/controls",
       "_model_module_version": "1.5.0",
       "_model_name": "HTMLModel",
       "_view_count": null,
       "_view_module": "@jupyter-widgets/controls",
       "_view_module_version": "1.5.0",
       "_view_name": "HTMLView",
       "description": "",
       "description_tooltip": null,
       "layout": "IPY_MODEL_5c4bcd257cbd4bc99f268087bb614e59",
       "placeholder": "​",
       "style": "IPY_MODEL_e886504eb2cb4064b537f4a68e95d360",
       "value": "100%"
      }
     },
     "384190d6d5574de98996b38ccd19ad44": {
      "model_module": "@jupyter-widgets/base",
      "model_module_version": "1.2.0",
      "model_name": "LayoutModel",
      "state": {
       "_model_module": "@jupyter-widgets/base",
       "_model_module_version": "1.2.0",
       "_model_name": "LayoutModel",
       "_view_count": null,
       "_view_module": "@jupyter-widgets/base",
       "_view_module_version": "1.2.0",
       "_view_name": "LayoutView",
       "align_content": null,
       "align_items": null,
       "align_self": null,
       "border": null,
       "bottom": null,
       "display": null,
       "flex": null,
       "flex_flow": null,
       "grid_area": null,
       "grid_auto_columns": null,
       "grid_auto_flow": null,
       "grid_auto_rows": null,
       "grid_column": null,
       "grid_gap": null,
       "grid_row": null,
       "grid_template_areas": null,
       "grid_template_columns": null,
       "grid_template_rows": null,
       "height": null,
       "justify_content": null,
       "justify_items": null,
       "left": null,
       "margin": null,
       "max_height": null,
       "max_width": null,
       "min_height": null,
       "min_width": null,
       "object_fit": null,
       "object_position": null,
       "order": null,
       "overflow": null,
       "overflow_x": null,
       "overflow_y": null,
       "padding": null,
       "right": null,
       "top": null,
       "visibility": null,
       "width": null
      }
     },
     "5c4bcd257cbd4bc99f268087bb614e59": {
      "model_module": "@jupyter-widgets/base",
      "model_module_version": "1.2.0",
      "model_name": "LayoutModel",
      "state": {
       "_model_module": "@jupyter-widgets/base",
       "_model_module_version": "1.2.0",
       "_model_name": "LayoutModel",
       "_view_count": null,
       "_view_module": "@jupyter-widgets/base",
       "_view_module_version": "1.2.0",
       "_view_name": "LayoutView",
       "align_content": null,
       "align_items": null,
       "align_self": null,
       "border": null,
       "bottom": null,
       "display": null,
       "flex": null,
       "flex_flow": null,
       "grid_area": null,
       "grid_auto_columns": null,
       "grid_auto_flow": null,
       "grid_auto_rows": null,
       "grid_column": null,
       "grid_gap": null,
       "grid_row": null,
       "grid_template_areas": null,
       "grid_template_columns": null,
       "grid_template_rows": null,
       "height": null,
       "justify_content": null,
       "justify_items": null,
       "left": null,
       "margin": null,
       "max_height": null,
       "max_width": null,
       "min_height": null,
       "min_width": null,
       "object_fit": null,
       "object_position": null,
       "order": null,
       "overflow": null,
       "overflow_x": null,
       "overflow_y": null,
       "padding": null,
       "right": null,
       "top": null,
       "visibility": null,
       "width": null
      }
     },
     "7c11ecc687ba4495a883450e76b08a09": {
      "model_module": "@jupyter-widgets/controls",
      "model_module_version": "1.5.0",
      "model_name": "HTMLModel",
      "state": {
       "_dom_classes": [],
       "_model_module": "@jupyter-widgets/controls",
       "_model_module_version": "1.5.0",
       "_model_name": "HTMLModel",
       "_view_count": null,
       "_view_module": "@jupyter-widgets/controls",
       "_view_module_version": "1.5.0",
       "_view_name": "HTMLView",
       "description": "",
       "description_tooltip": null,
       "layout": "IPY_MODEL_b0946bcced044b339233c49d7d88768f",
       "placeholder": "​",
       "style": "IPY_MODEL_942ce86ccf2b4221ae69c5259b53e163",
       "value": " 44.7M/44.7M [00:00&lt;00:00, 134MB/s]"
      }
     },
     "942ce86ccf2b4221ae69c5259b53e163": {
      "model_module": "@jupyter-widgets/controls",
      "model_module_version": "1.5.0",
      "model_name": "DescriptionStyleModel",
      "state": {
       "_model_module": "@jupyter-widgets/controls",
       "_model_module_version": "1.5.0",
       "_model_name": "DescriptionStyleModel",
       "_view_count": null,
       "_view_module": "@jupyter-widgets/base",
       "_view_module_version": "1.2.0",
       "_view_name": "StyleView",
       "description_width": ""
      }
     },
     "ae005c6951984f519f11184089047fd0": {
      "model_module": "@jupyter-widgets/base",
      "model_module_version": "1.2.0",
      "model_name": "LayoutModel",
      "state": {
       "_model_module": "@jupyter-widgets/base",
       "_model_module_version": "1.2.0",
       "_model_name": "LayoutModel",
       "_view_count": null,
       "_view_module": "@jupyter-widgets/base",
       "_view_module_version": "1.2.0",
       "_view_name": "LayoutView",
       "align_content": null,
       "align_items": null,
       "align_self": null,
       "border": null,
       "bottom": null,
       "display": null,
       "flex": null,
       "flex_flow": null,
       "grid_area": null,
       "grid_auto_columns": null,
       "grid_auto_flow": null,
       "grid_auto_rows": null,
       "grid_column": null,
       "grid_gap": null,
       "grid_row": null,
       "grid_template_areas": null,
       "grid_template_columns": null,
       "grid_template_rows": null,
       "height": null,
       "justify_content": null,
       "justify_items": null,
       "left": null,
       "margin": null,
       "max_height": null,
       "max_width": null,
       "min_height": null,
       "min_width": null,
       "object_fit": null,
       "object_position": null,
       "order": null,
       "overflow": null,
       "overflow_x": null,
       "overflow_y": null,
       "padding": null,
       "right": null,
       "top": null,
       "visibility": null,
       "width": null
      }
     },
     "b0946bcced044b339233c49d7d88768f": {
      "model_module": "@jupyter-widgets/base",
      "model_module_version": "1.2.0",
      "model_name": "LayoutModel",
      "state": {
       "_model_module": "@jupyter-widgets/base",
       "_model_module_version": "1.2.0",
       "_model_name": "LayoutModel",
       "_view_count": null,
       "_view_module": "@jupyter-widgets/base",
       "_view_module_version": "1.2.0",
       "_view_name": "LayoutView",
       "align_content": null,
       "align_items": null,
       "align_self": null,
       "border": null,
       "bottom": null,
       "display": null,
       "flex": null,
       "flex_flow": null,
       "grid_area": null,
       "grid_auto_columns": null,
       "grid_auto_flow": null,
       "grid_auto_rows": null,
       "grid_column": null,
       "grid_gap": null,
       "grid_row": null,
       "grid_template_areas": null,
       "grid_template_columns": null,
       "grid_template_rows": null,
       "height": null,
       "justify_content": null,
       "justify_items": null,
       "left": null,
       "margin": null,
       "max_height": null,
       "max_width": null,
       "min_height": null,
       "min_width": null,
       "object_fit": null,
       "object_position": null,
       "order": null,
       "overflow": null,
       "overflow_x": null,
       "overflow_y": null,
       "padding": null,
       "right": null,
       "top": null,
       "visibility": null,
       "width": null
      }
     },
     "b12e0749160146bd8ca31f9d86651fa3": {
      "model_module": "@jupyter-widgets/controls",
      "model_module_version": "1.5.0",
      "model_name": "HBoxModel",
      "state": {
       "_dom_classes": [],
       "_model_module": "@jupyter-widgets/controls",
       "_model_module_version": "1.5.0",
       "_model_name": "HBoxModel",
       "_view_count": null,
       "_view_module": "@jupyter-widgets/controls",
       "_view_module_version": "1.5.0",
       "_view_name": "HBoxView",
       "box_style": "",
       "children": [
        "IPY_MODEL_3026ff2c15c644598694d93e7cd2c9f7",
        "IPY_MODEL_1a591ab481b44e5a8a10b222edeb334e",
        "IPY_MODEL_7c11ecc687ba4495a883450e76b08a09"
       ],
       "layout": "IPY_MODEL_ae005c6951984f519f11184089047fd0"
      }
     },
     "b163fa887769424490c4fda1ed433bff": {
      "model_module": "@jupyter-widgets/controls",
      "model_module_version": "1.5.0",
      "model_name": "ProgressStyleModel",
      "state": {
       "_model_module": "@jupyter-widgets/controls",
       "_model_module_version": "1.5.0",
       "_model_name": "ProgressStyleModel",
       "_view_count": null,
       "_view_module": "@jupyter-widgets/base",
       "_view_module_version": "1.2.0",
       "_view_name": "StyleView",
       "bar_color": null,
       "description_width": ""
      }
     },
     "e886504eb2cb4064b537f4a68e95d360": {
      "model_module": "@jupyter-widgets/controls",
      "model_module_version": "1.5.0",
      "model_name": "DescriptionStyleModel",
      "state": {
       "_model_module": "@jupyter-widgets/controls",
       "_model_module_version": "1.5.0",
       "_model_name": "DescriptionStyleModel",
       "_view_count": null,
       "_view_module": "@jupyter-widgets/base",
       "_view_module_version": "1.2.0",
       "_view_name": "StyleView",
       "description_width": ""
      }
     }
    },
    "version_major": 2,
    "version_minor": 0
   }
  }
 },
 "nbformat": 4,
 "nbformat_minor": 5
}
